{
 "cells": [
  {
   "cell_type": "code",
   "execution_count": 1,
   "metadata": {},
   "outputs": [],
   "source": [
    "import pandas as pd"
   ]
  },
  {
   "cell_type": "code",
   "execution_count": 2,
   "metadata": {},
   "outputs": [],
   "source": [
    "import numpy as np"
   ]
  },
  {
   "cell_type": "code",
   "execution_count": 21,
   "metadata": {},
   "outputs": [],
   "source": [
    "data=pd.read_csv(r\"C:\\Users\\dell\\Downloads\\movies.csv\")"
   ]
  },
  {
   "cell_type": "code",
   "execution_count": 23,
   "metadata": {},
   "outputs": [
    {
     "data": {
      "text/html": [
       "<div>\n",
       "<style scoped>\n",
       "    .dataframe tbody tr th:only-of-type {\n",
       "        vertical-align: middle;\n",
       "    }\n",
       "\n",
       "    .dataframe tbody tr th {\n",
       "        vertical-align: top;\n",
       "    }\n",
       "\n",
       "    .dataframe thead th {\n",
       "        text-align: right;\n",
       "    }\n",
       "</style>\n",
       "<table border=\"1\" class=\"dataframe\">\n",
       "  <thead>\n",
       "    <tr style=\"text-align: right;\">\n",
       "      <th></th>\n",
       "      <th>V1</th>\n",
       "      <th>V2</th>\n",
       "      <th>V3</th>\n",
       "      <th>V4</th>\n",
       "      <th>V5</th>\n",
       "    </tr>\n",
       "  </thead>\n",
       "  <tbody>\n",
       "    <tr>\n",
       "      <th>0</th>\n",
       "      <td>Sixth Sense</td>\n",
       "      <td>LOTR1</td>\n",
       "      <td>Harry Potter1</td>\n",
       "      <td>Green Mile</td>\n",
       "      <td>LOTR2</td>\n",
       "    </tr>\n",
       "    <tr>\n",
       "      <th>1</th>\n",
       "      <td>Gladiator</td>\n",
       "      <td>Patriot</td>\n",
       "      <td>Braveheart</td>\n",
       "      <td>NaN</td>\n",
       "      <td>NaN</td>\n",
       "    </tr>\n",
       "    <tr>\n",
       "      <th>2</th>\n",
       "      <td>LOTR1</td>\n",
       "      <td>LOTR2</td>\n",
       "      <td>NaN</td>\n",
       "      <td>NaN</td>\n",
       "      <td>NaN</td>\n",
       "    </tr>\n",
       "    <tr>\n",
       "      <th>3</th>\n",
       "      <td>Gladiator</td>\n",
       "      <td>Patriot</td>\n",
       "      <td>Sixth Sense</td>\n",
       "      <td>NaN</td>\n",
       "      <td>NaN</td>\n",
       "    </tr>\n",
       "    <tr>\n",
       "      <th>4</th>\n",
       "      <td>Gladiator</td>\n",
       "      <td>Patriot</td>\n",
       "      <td>Sixth Sense</td>\n",
       "      <td>NaN</td>\n",
       "      <td>NaN</td>\n",
       "    </tr>\n",
       "    <tr>\n",
       "      <th>5</th>\n",
       "      <td>Gladiator</td>\n",
       "      <td>Patriot</td>\n",
       "      <td>Sixth Sense</td>\n",
       "      <td>NaN</td>\n",
       "      <td>NaN</td>\n",
       "    </tr>\n",
       "    <tr>\n",
       "      <th>6</th>\n",
       "      <td>Harry Potter1</td>\n",
       "      <td>Harry Potter2</td>\n",
       "      <td>NaN</td>\n",
       "      <td>NaN</td>\n",
       "      <td>NaN</td>\n",
       "    </tr>\n",
       "    <tr>\n",
       "      <th>7</th>\n",
       "      <td>Gladiator</td>\n",
       "      <td>Patriot</td>\n",
       "      <td>NaN</td>\n",
       "      <td>NaN</td>\n",
       "      <td>NaN</td>\n",
       "    </tr>\n",
       "    <tr>\n",
       "      <th>8</th>\n",
       "      <td>Gladiator</td>\n",
       "      <td>Patriot</td>\n",
       "      <td>Sixth Sense</td>\n",
       "      <td>NaN</td>\n",
       "      <td>NaN</td>\n",
       "    </tr>\n",
       "    <tr>\n",
       "      <th>9</th>\n",
       "      <td>Sixth Sense</td>\n",
       "      <td>LOTR</td>\n",
       "      <td>Gladiator</td>\n",
       "      <td>Green Mile</td>\n",
       "      <td>NaN</td>\n",
       "    </tr>\n",
       "  </tbody>\n",
       "</table>\n",
       "</div>"
      ],
      "text/plain": [
       "              V1             V2             V3          V4     V5\n",
       "0    Sixth Sense          LOTR1  Harry Potter1  Green Mile  LOTR2\n",
       "1      Gladiator        Patriot     Braveheart         NaN    NaN\n",
       "2          LOTR1          LOTR2            NaN         NaN    NaN\n",
       "3      Gladiator        Patriot    Sixth Sense         NaN    NaN\n",
       "4      Gladiator        Patriot    Sixth Sense         NaN    NaN\n",
       "5      Gladiator        Patriot    Sixth Sense         NaN    NaN\n",
       "6  Harry Potter1  Harry Potter2            NaN         NaN    NaN\n",
       "7      Gladiator        Patriot            NaN         NaN    NaN\n",
       "8      Gladiator        Patriot    Sixth Sense         NaN    NaN\n",
       "9    Sixth Sense           LOTR      Gladiator  Green Mile    NaN"
      ]
     },
     "execution_count": 23,
     "metadata": {},
     "output_type": "execute_result"
    }
   ],
   "source": [
    "data"
   ]
  },
  {
   "cell_type": "code",
   "execution_count": null,
   "metadata": {},
   "outputs": [],
   "source": []
  },
  {
   "cell_type": "code",
   "execution_count": 24,
   "metadata": {},
   "outputs": [
    {
     "data": {
      "text/plain": [
       "pandas.core.frame.DataFrame"
      ]
     },
     "execution_count": 24,
     "metadata": {},
     "output_type": "execute_result"
    }
   ],
   "source": [
    "type(data)"
   ]
  },
  {
   "cell_type": "code",
   "execution_count": 25,
   "metadata": {},
   "outputs": [],
   "source": [
    "record=[]\n",
    "for i in range (0,9):\n",
    "    record.append([str(data.values[i,j]) for j in range(0,5)])"
   ]
  },
  {
   "cell_type": "code",
   "execution_count": 26,
   "metadata": {},
   "outputs": [
    {
     "data": {
      "text/plain": [
       "[['Sixth Sense', 'LOTR1', 'Harry Potter1', 'Green Mile', 'LOTR2'],\n",
       " ['Gladiator', 'Patriot', 'Braveheart', 'nan', 'nan'],\n",
       " ['LOTR1', 'LOTR2', 'nan', 'nan', 'nan'],\n",
       " ['Gladiator', 'Patriot', 'Sixth Sense', 'nan', 'nan'],\n",
       " ['Gladiator', 'Patriot', 'Sixth Sense', 'nan', 'nan'],\n",
       " ['Gladiator', 'Patriot', 'Sixth Sense', 'nan', 'nan'],\n",
       " ['Harry Potter1', 'Harry Potter2', 'nan', 'nan', 'nan'],\n",
       " ['Gladiator', 'Patriot', 'nan', 'nan', 'nan'],\n",
       " ['Gladiator', 'Patriot', 'Sixth Sense', 'nan', 'nan']]"
      ]
     },
     "execution_count": 26,
     "metadata": {},
     "output_type": "execute_result"
    }
   ],
   "source": [
    "record"
   ]
  },
  {
   "cell_type": "code",
   "execution_count": 27,
   "metadata": {},
   "outputs": [],
   "source": [
    "from apyori import apriori"
   ]
  },
  {
   "cell_type": "code",
   "execution_count": 28,
   "metadata": {},
   "outputs": [
    {
     "name": "stdout",
     "output_type": "stream",
     "text": [
      "23\n"
     ]
    }
   ],
   "source": [
    "association_rules = apriori(record, min_support=0.0045, min_confidence=0.2, min_lift=3, min_length=2)\n",
    "association_results = list(association_rules)\n",
    "print(len(association_results))"
   ]
  },
  {
   "cell_type": "code",
   "execution_count": 29,
   "metadata": {},
   "outputs": [
    {
     "name": "stdout",
     "output_type": "stream",
     "text": [
      "RelationRecord(items=frozenset({'Green Mile', 'Harry Potter1'}), support=0.1111111111111111, ordered_statistics=[OrderedStatistic(items_base=frozenset({'Green Mile'}), items_add=frozenset({'Harry Potter1'}), confidence=1.0, lift=4.5), OrderedStatistic(items_base=frozenset({'Harry Potter1'}), items_add=frozenset({'Green Mile'}), confidence=0.5, lift=4.5)])\n"
     ]
    }
   ],
   "source": [
    "print(association_results[0])"
   ]
  },
  {
   "cell_type": "code",
   "execution_count": 30,
   "metadata": {},
   "outputs": [],
   "source": [
    "import matplotlib.pyplot as plt"
   ]
  },
  {
   "cell_type": "code",
   "execution_count": 31,
   "metadata": {},
   "outputs": [
    {
     "name": "stdout",
     "output_type": "stream",
     "text": [
      "Rule: Green Mile -> Harry Potter1\n",
      "Support: 0.1111111111111111\n",
      "Confidence: 1.0\n",
      "Lift: 4.5\n",
      "=====================================\n",
      "Rule: LOTR1 -> Green Mile\n",
      "Support: 0.1111111111111111\n",
      "Confidence: 1.0\n",
      "Lift: 4.5\n",
      "=====================================\n",
      "Rule: Green Mile -> LOTR2\n",
      "Support: 0.1111111111111111\n",
      "Confidence: 1.0\n",
      "Lift: 4.5\n",
      "=====================================\n",
      "Rule: Harry Potter1 -> Harry Potter2\n",
      "Support: 0.1111111111111111\n",
      "Confidence: 0.5\n",
      "Lift: 4.5\n",
      "=====================================\n",
      "Rule: LOTR1 -> LOTR2\n",
      "Support: 0.2222222222222222\n",
      "Confidence: 1.0\n",
      "Lift: 4.5\n",
      "=====================================\n",
      "Rule: LOTR1 -> Green Mile\n",
      "Support: 0.1111111111111111\n",
      "Confidence: 1.0\n",
      "Lift: 9.0\n",
      "=====================================\n",
      "Rule: Green Mile -> LOTR2\n",
      "Support: 0.1111111111111111\n",
      "Confidence: 1.0\n",
      "Lift: 9.0\n",
      "=====================================\n",
      "Rule: Sixth Sense -> Green Mile\n",
      "Support: 0.1111111111111111\n",
      "Confidence: 1.0\n",
      "Lift: 9.0\n",
      "=====================================\n",
      "Rule: LOTR1 -> Green Mile\n",
      "Support: 0.1111111111111111\n",
      "Confidence: 1.0\n",
      "Lift: 4.5\n",
      "=====================================\n",
      "Rule: LOTR1 -> Green Mile\n",
      "Support: 0.1111111111111111\n",
      "Confidence: 1.0\n",
      "Lift: 9.0\n",
      "=====================================\n",
      "Rule: Sixth Sense -> Green Mile\n",
      "Support: 0.1111111111111111\n",
      "Confidence: 1.0\n",
      "Lift: 9.0\n",
      "=====================================\n",
      "Rule: nan -> Harry Potter1\n",
      "Support: 0.1111111111111111\n",
      "Confidence: 0.5\n",
      "Lift: 4.5\n",
      "=====================================\n",
      "Rule: LOTR1 -> LOTR2\n",
      "Support: 0.1111111111111111\n",
      "Confidence: 0.5\n",
      "Lift: 4.5\n",
      "=====================================\n",
      "Rule: LOTR1 -> Harry Potter1\n",
      "Support: 0.1111111111111111\n",
      "Confidence: 0.5\n",
      "Lift: 4.5\n",
      "=====================================\n",
      "Rule: Sixth Sense -> LOTR2\n",
      "Support: 0.1111111111111111\n",
      "Confidence: 0.5\n",
      "Lift: 4.5\n",
      "=====================================\n",
      "Rule: LOTR1 -> LOTR2\n",
      "Support: 0.1111111111111111\n",
      "Confidence: 0.5\n",
      "Lift: 4.5\n",
      "=====================================\n",
      "Rule: LOTR1 -> LOTR2\n",
      "Support: 0.1111111111111111\n",
      "Confidence: 0.5\n",
      "Lift: 4.5\n",
      "=====================================\n",
      "Rule: LOTR1 -> Green Mile\n",
      "Support: 0.1111111111111111\n",
      "Confidence: 1.0\n",
      "Lift: 9.0\n",
      "=====================================\n",
      "Rule: LOTR1 -> Green Mile\n",
      "Support: 0.1111111111111111\n",
      "Confidence: 1.0\n",
      "Lift: 9.0\n",
      "=====================================\n",
      "Rule: Sixth Sense -> Green Mile\n",
      "Support: 0.1111111111111111\n",
      "Confidence: 1.0\n",
      "Lift: 9.0\n",
      "=====================================\n",
      "Rule: LOTR1 -> Green Mile\n",
      "Support: 0.1111111111111111\n",
      "Confidence: 1.0\n",
      "Lift: 9.0\n",
      "=====================================\n",
      "Rule: LOTR1 -> LOTR2\n",
      "Support: 0.1111111111111111\n",
      "Confidence: 0.5\n",
      "Lift: 4.5\n",
      "=====================================\n",
      "Rule: LOTR2 -> Harry Potter1\n",
      "Support: 0.1111111111111111\n",
      "Confidence: 1.0\n",
      "Lift: 9.0\n",
      "=====================================\n"
     ]
    }
   ],
   "source": [
    "for item in association_results:\n",
    "\n",
    "    # first index of the inner list\n",
    "    # Contains base item and add item\n",
    "    pair = item[0] \n",
    "    items = [x for x in pair]\n",
    "    print(\"Rule: \" + items[0] + \" -> \" + items[1])\n",
    "\n",
    "    #second index of the inner list\n",
    "    print(\"Support: \" + str(item[1]))\n",
    "\n",
    "    #third index of the list located at 0th\n",
    "    #of the third index of the inner list\n",
    "\n",
    "    print(\"Confidence: \" + str(item[2][0][2]))\n",
    "    print(\"Lift: \" + str(item[2][0][3]))\n",
    "    print(\"=====================================\")"
   ]
  },
  {
   "cell_type": "code",
   "execution_count": null,
   "metadata": {},
   "outputs": [],
   "source": []
  },
  {
   "cell_type": "code",
   "execution_count": null,
   "metadata": {},
   "outputs": [],
   "source": []
  }
 ],
 "metadata": {
  "kernelspec": {
   "display_name": "Python 3",
   "language": "python",
   "name": "python3"
  },
  "language_info": {
   "codemirror_mode": {
    "name": "ipython",
    "version": 3
   },
   "file_extension": ".py",
   "mimetype": "text/x-python",
   "name": "python",
   "nbconvert_exporter": "python",
   "pygments_lexer": "ipython3",
   "version": "3.7.6"
  }
 },
 "nbformat": 4,
 "nbformat_minor": 4
}
